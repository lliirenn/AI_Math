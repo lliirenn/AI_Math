{
 "cells": [
  {
   "cell_type": "code",
   "execution_count": 4,
   "metadata": {},
   "outputs": [],
   "source": [
    "%matplotlib inline\n",
    "\n",
    "import numpy as np\n",
    "import matplotlib.pyplot as plt\n",
    "import pandas as pd"
   ]
  },
  {
   "cell_type": "code",
   "execution_count": 6,
   "metadata": {},
   "outputs": [],
   "source": [
    "df = pd.read_csv('/Users/shiounio-mac/Desktop/2019323.csv')"
   ]
  },
  {
   "cell_type": "code",
   "execution_count": 7,
   "metadata": {},
   "outputs": [
    {
     "data": {
      "text/html": [
       "<div>\n",
       "<table border=\"1\" class=\"dataframe\">\n",
       "  <thead>\n",
       "    <tr style=\"text-align: right;\">\n",
       "      <th></th>\n",
       "      <th>年月</th>\n",
       "      <th>上市股票-平均每股市值(元)</th>\n",
       "      <th>上市股票-平均每股盈餘(元)</th>\n",
       "      <th>上市股票-平均每股淨值(元)</th>\n",
       "      <th>上市股票-本益比()</th>\n",
       "      <th>上市股票-成交值週轉率(％)</th>\n",
       "      <th>上市股票-市值占 GDP比率(％)</th>\n",
       "    </tr>\n",
       "  </thead>\n",
       "  <tbody>\n",
       "    <tr>\n",
       "      <th>0</th>\n",
       "      <td>87</td>\n",
       "      <td>31.15</td>\n",
       "      <td>1.20</td>\n",
       "      <td>14.30</td>\n",
       "      <td>26.14</td>\n",
       "      <td>314.06</td>\n",
       "      <td>90.84</td>\n",
       "    </tr>\n",
       "    <tr>\n",
       "      <th>1</th>\n",
       "      <td>88</td>\n",
       "      <td>38.62</td>\n",
       "      <td>0.80</td>\n",
       "      <td>14.85</td>\n",
       "      <td>47.73</td>\n",
       "      <td>288.62</td>\n",
       "      <td>122.33</td>\n",
       "    </tr>\n",
       "    <tr>\n",
       "      <th>2</th>\n",
       "      <td>89</td>\n",
       "      <td>22.56</td>\n",
       "      <td>1.52</td>\n",
       "      <td>16.18</td>\n",
       "      <td>14.84</td>\n",
       "      <td>259.16</td>\n",
       "      <td>80.41</td>\n",
       "    </tr>\n",
       "    <tr>\n",
       "      <th>3</th>\n",
       "      <td>90</td>\n",
       "      <td>25.22</td>\n",
       "      <td>0.61</td>\n",
       "      <td>15.33</td>\n",
       "      <td>41.57</td>\n",
       "      <td>206.95</td>\n",
       "      <td>103.19</td>\n",
       "    </tr>\n",
       "    <tr>\n",
       "      <th>4</th>\n",
       "      <td>91</td>\n",
       "      <td>20.62</td>\n",
       "      <td>0.49</td>\n",
       "      <td>15.00</td>\n",
       "      <td>41.77</td>\n",
       "      <td>217.41</td>\n",
       "      <td>87.35</td>\n",
       "    </tr>\n",
       "  </tbody>\n",
       "</table>\n",
       "</div>"
      ],
      "text/plain": [
       "   年月  上市股票-平均每股市值(元)  上市股票-平均每股盈餘(元)  上市股票-平均每股淨值(元)  上市股票-本益比()  \\\n",
       "0  87           31.15            1.20           14.30       26.14   \n",
       "1  88           38.62            0.80           14.85       47.73   \n",
       "2  89           22.56            1.52           16.18       14.84   \n",
       "3  90           25.22            0.61           15.33       41.57   \n",
       "4  91           20.62            0.49           15.00       41.77   \n",
       "\n",
       "   上市股票-成交值週轉率(％)  上市股票-市值占 GDP比率(％)  \n",
       "0          314.06              90.84  \n",
       "1          288.62             122.33  \n",
       "2          259.16              80.41  \n",
       "3          206.95             103.19  \n",
       "4          217.41              87.35  "
      ]
     },
     "execution_count": 7,
     "metadata": {},
     "output_type": "execute_result"
    }
   ],
   "source": [
    "df.head()"
   ]
  },
  {
   "cell_type": "code",
   "execution_count": 8,
   "metadata": {},
   "outputs": [
    {
     "data": {
      "text/plain": [
       "0         87\n",
       "1         88\n",
       "2         89\n",
       "3         90\n",
       "4         91\n",
       "5         92\n",
       "6         93\n",
       "7         94\n",
       "8         95\n",
       "9         96\n",
       "10        97\n",
       "11        98\n",
       "12        99\n",
       "13       100\n",
       "14       101\n",
       "15       102\n",
       "16       103\n",
       "17       104\n",
       "18      9201\n",
       "19      9202\n",
       "20      9203\n",
       "21      9204\n",
       "22      9205\n",
       "23      9206\n",
       "24      9207\n",
       "25      9208\n",
       "26      9209\n",
       "27      9210\n",
       "28      9211\n",
       "29      9212\n",
       "       ...  \n",
       "180    10507\n",
       "181    10508\n",
       "182    10509\n",
       "183    10510\n",
       "184    10511\n",
       "185    10512\n",
       "186    10601\n",
       "187    10602\n",
       "188    10603\n",
       "189    10604\n",
       "190    10605\n",
       "191    10606\n",
       "192    10607\n",
       "193    10608\n",
       "194    10609\n",
       "195    10610\n",
       "196    10611\n",
       "197    10612\n",
       "198    10701\n",
       "199    10702\n",
       "200    10703\n",
       "201    10704\n",
       "202    10705\n",
       "203    10706\n",
       "204    10707\n",
       "205    10708\n",
       "206    10709\n",
       "207    10710\n",
       "208    10711\n",
       "209    10712\n",
       "Name: 年月, dtype: int64"
      ]
     },
     "execution_count": 8,
     "metadata": {},
     "output_type": "execute_result"
    }
   ],
   "source": [
    "df.年月"
   ]
  },
  {
   "cell_type": "code",
   "execution_count": null,
   "metadata": {
    "collapsed": true
   },
   "outputs": [],
   "source": []
  }
 ],
 "metadata": {
  "kernelspec": {
   "display_name": "Python 3",
   "language": "python",
   "name": "python3"
  },
  "language_info": {
   "codemirror_mode": {
    "name": "ipython",
    "version": 3
   },
   "file_extension": ".py",
   "mimetype": "text/x-python",
   "name": "python",
   "nbconvert_exporter": "python",
   "pygments_lexer": "ipython3",
   "version": "3.6.0"
  }
 },
 "nbformat": 4,
 "nbformat_minor": 2
}
